{
 "cells": [
  {
   "cell_type": "code",
   "execution_count": null,
   "metadata": {},
   "outputs": [],
   "source": [
    "%matplotlib inline"
   ]
  },
  {
   "cell_type": "code",
   "execution_count": null,
   "metadata": {},
   "outputs": [],
   "source": [
    "import h5py\n",
    "import array\n",
    "import time\n",
    "\n",
    "_LMT_TIMESTEP = 5\n",
    "\n",
    "f = h5py.File( '/global/project/projectdirs/pma/www/daily/2016-06-04/edison_snx11025.h5lmt', 'r')"
   ]
  },
  {
   "cell_type": "markdown",
   "metadata": {},
   "source": [
    "## Find the time corresponding to each column"
   ]
  },
  {
   "cell_type": "code",
   "execution_count": null,
   "metadata": {},
   "outputs": [],
   "source": [
    "for x in f['FSStepsGroup/FSStepsDataSet'][0:3]:\n",
    "    print time.strftime(\"%Y-%m-%d %H:%M:%S\", time.localtime(x))"
   ]
  },
  {
   "cell_type": "markdown",
   "metadata": {},
   "source": [
    "## Find peak metadata op rate\n",
    "\n",
    "For each metadata operation we track, print out the highest op rate (ops/sec) observed.  To convert this op rate into an op count, multiply by `_LMT_TIMESTEP`."
   ]
  },
  {
   "cell_type": "code",
   "execution_count": null,
   "metadata": {},
   "outputs": [],
   "source": [
    "for i in range(len(f['MDSOpsGroup/MDSOpsDataSet'].attrs['OpNames'])):\n",
    "    op_name = f['MDSOpsGroup/MDSOpsDataSet'].attrs['OpNames'][i]\n",
    "    max_op_rate = f['MDSOpsGroup/MDSOpsDataSet'][i,:].max()\n",
    "    if max_op_rate > 0.0:\n",
    "        print op_name, max_op_rate\n",
    "          "
   ]
  },
  {
   "cell_type": "markdown",
   "metadata": {},
   "source": [
    "## Find the bytes read by one OST over the whole day\n",
    "\n",
    "Note that we multiply by `_LMT_TIMESTEP` to get total bytes read."
   ]
  },
  {
   "cell_type": "code",
   "execution_count": null,
   "metadata": {},
   "outputs": [],
   "source": [
    "ost_target = 'snx11025-OST005c'\n",
    "ost_target_idx = list(f['OSTReadGroup/OSTBulkReadDataSet'].attrs[u'OSTNames']).index(ost_target)\n",
    "print \"Bytes read: \", f['OSTReadGroup/OSTBulkReadDataSet'][ost_target_idx,:].sum() * _LMT_TIMESTEP"
   ]
  },
  {
   "cell_type": "markdown",
   "metadata": {},
   "source": [
    "## Find the fraction of data points that are marked as missing"
   ]
  },
  {
   "cell_type": "code",
   "execution_count": null,
   "metadata": {},
   "outputs": [],
   "source": [
    "tot_missing = f['FSMissingGroup/FSMissingDataSet'][:].sum()\n",
    "# The following multiplies all of the dimensions of the given dataset together\n",
    "# to get the total number of elements contained\n",
    "tot_data = reduce(lambda a, b: a*b, f['FSMissingGroup/FSMissingDataSet'].shape)\n",
    "print \"Total data points missing:\", tot_missing, \"out of\", tot_data\n",
    "print \"Fraction of data missing:\", float(tot_missing) / tot_data"
   ]
  },
  {
   "cell_type": "markdown",
   "metadata": {},
   "source": [
    "## Plot the observed bandwidth across the file system for the entire HDF5 file"
   ]
  },
  {
   "cell_type": "code",
   "execution_count": null,
   "metadata": {},
   "outputs": [],
   "source": [
    "# Build the array that we will plot\n",
    "bytes_per_sec = array.array( \n",
    "    'd', \n",
    "    [ f['OSTReadGroup/OSTBulkReadDataSet'][:,x].sum() for x in range(f['OSTReadGroup/OSTBulkReadDataSet'].shape[1]) ] )"
   ]
  },
  {
   "cell_type": "code",
   "execution_count": null,
   "metadata": {},
   "outputs": [],
   "source": [
    "from matplotlib import pyplot as plt\n",
    "plt.xlabel('Time')\n",
    "plt.ylabel('GiB Read')\n",
    "plt.title('Read activity')\n",
    "plt.plot([ x0 * _LMT_TIMESTEP / 3600.0 for x0 in range(len(bytes_per_sec)) ], \n",
    "         [ x / 2.0**30 for x in bytes_per_sec ])\n"
   ]
  },
  {
   "cell_type": "code",
   "execution_count": null,
   "metadata": {},
   "outputs": [],
   "source": []
  }
 ],
 "metadata": {
  "kernelspec": {
   "display_name": "Python 2",
   "language": "python",
   "name": "python2"
  },
  "language_info": {
   "codemirror_mode": {
    "name": "ipython",
    "version": 2
   },
   "file_extension": ".py",
   "mimetype": "text/x-python",
   "name": "python",
   "nbconvert_exporter": "python",
   "pygments_lexer": "ipython2"
  }
 },
 "nbformat": 4,
 "nbformat_minor": 0
}
